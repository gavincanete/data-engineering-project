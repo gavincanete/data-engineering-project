{
 "cells": [
  {
   "cell_type": "code",
   "execution_count": 4,
   "id": "0eb4b69e",
   "metadata": {},
   "outputs": [
    {
     "name": "stdout",
     "output_type": "stream",
     "text": [
      "Requirement already satisfied: psycopg2-binary in /home/gavincanete/Personal/Projects/AirflowProject/dataEnv/lib/python3.10/site-packages (2.9.6)\r\n"
     ]
    }
   ],
   "source": [
    "!pip install psycopg2-binary"
   ]
  },
  {
   "cell_type": "code",
   "execution_count": 2,
   "id": "6bfb8b49",
   "metadata": {},
   "outputs": [],
   "source": [
    "import psycopg2\n",
    "import pandas as pd\n",
    "from configparser import ConfigParser"
   ]
  },
  {
   "cell_type": "markdown",
   "id": "3dffb59d",
   "metadata": {},
   "source": [
    "# Connecting to shoe_db database\n"
   ]
  },
  {
   "cell_type": "code",
   "execution_count": 3,
   "id": "c6449e1b",
   "metadata": {},
   "outputs": [],
   "source": [
    "def get_credentials():\n",
    "    filename = 'shoe_database.ini'\n",
    "\n",
    "    parser = ConfigParser()\n",
    "    parser.read(filename)\n",
    "\n",
    "    credential = {}\n",
    "\n",
    "    for param in parser.items('postgresql'):\n",
    "        credential[param[0]] = param[1]\n",
    "\n",
    "    return credential"
   ]
  },
  {
   "cell_type": "code",
   "execution_count": 4,
   "id": "6c13ae23",
   "metadata": {},
   "outputs": [],
   "source": [
    "try:\n",
    "    db = get_credentials()\n",
    "    conn = psycopg2.connect(**db)\n",
    "except psycopg2.Error as e:\n",
    "    print(e)\n",
    "\n",
    "try:\n",
    "    cur = conn.cursor()\n",
    "except psycopg2.Error as e:\n",
    "    print(e)\n",
    "conn.set_session(autocommit=True)"
   ]
  },
  {
   "cell_type": "markdown",
   "id": "1e1b094f",
   "metadata": {},
   "source": [
    "# SHOW MEN SHOES"
   ]
  },
  {
   "cell_type": "code",
   "execution_count": 6,
   "id": "d410caba",
   "metadata": {},
   "outputs": [
    {
     "data": {
      "text/html": [
       "<div>\n",
       "<style scoped>\n",
       "    .dataframe tbody tr th:only-of-type {\n",
       "        vertical-align: middle;\n",
       "    }\n",
       "\n",
       "    .dataframe tbody tr th {\n",
       "        vertical-align: top;\n",
       "    }\n",
       "\n",
       "    .dataframe thead th {\n",
       "        text-align: right;\n",
       "    }\n",
       "</style>\n",
       "<table border=\"1\" class=\"dataframe\">\n",
       "  <thead>\n",
       "    <tr style=\"text-align: right;\">\n",
       "      <th></th>\n",
       "      <th>stock_number</th>\n",
       "      <th>color</th>\n",
       "      <th>sizes</th>\n",
       "      <th>description</th>\n",
       "    </tr>\n",
       "  </thead>\n",
       "  <tbody>\n",
       "    <tr>\n",
       "      <th>0</th>\n",
       "      <td>566</td>\n",
       "      <td>blk</td>\n",
       "      <td>5 to 9</td>\n",
       "      <td>top sider black</td>\n",
       "    </tr>\n",
       "    <tr>\n",
       "      <th>1</th>\n",
       "      <td>566</td>\n",
       "      <td>gry</td>\n",
       "      <td>5 to 9</td>\n",
       "      <td>top sider gray</td>\n",
       "    </tr>\n",
       "    <tr>\n",
       "      <th>2</th>\n",
       "      <td>563</td>\n",
       "      <td>gry</td>\n",
       "      <td>5 to 9</td>\n",
       "      <td>tyler gray</td>\n",
       "    </tr>\n",
       "    <tr>\n",
       "      <th>3</th>\n",
       "      <td>566</td>\n",
       "      <td>brn</td>\n",
       "      <td>5 to 9</td>\n",
       "      <td>top sider brown</td>\n",
       "    </tr>\n",
       "    <tr>\n",
       "      <th>4</th>\n",
       "      <td>561</td>\n",
       "      <td>blk</td>\n",
       "      <td>5 to 9</td>\n",
       "      <td>reccan black</td>\n",
       "    </tr>\n",
       "  </tbody>\n",
       "</table>\n",
       "</div>"
      ],
      "text/plain": [
       "   stock_number color   sizes      description\n",
       "0           566   blk  5 to 9  top sider black\n",
       "1           566   gry  5 to 9   top sider gray\n",
       "2           563   gry  5 to 9       tyler gray\n",
       "3           566   brn  5 to 9  top sider brown\n",
       "4           561   blk  5 to 9     reccan black"
      ]
     },
     "execution_count": 6,
     "metadata": {},
     "output_type": "execute_result"
    }
   ],
   "source": [
    "cur.execute('select * from men_shoes')\n",
    "men_shoes_row = cur.fetchall()\n",
    "\n",
    "df = pd.DataFrame(men_shoes_row,  columns=['stock_number', 'color', 'sizes', 'description'])\n",
    "df.head()"
   ]
  },
  {
   "cell_type": "markdown",
   "id": "b6719bcb",
   "metadata": {},
   "source": [
    "# SHOW LADIES SHOES"
   ]
  },
  {
   "cell_type": "code",
   "execution_count": 6,
   "id": "f2516b7e",
   "metadata": {},
   "outputs": [
    {
     "data": {
      "text/html": [
       "<div>\n",
       "<style scoped>\n",
       "    .dataframe tbody tr th:only-of-type {\n",
       "        vertical-align: middle;\n",
       "    }\n",
       "\n",
       "    .dataframe tbody tr th {\n",
       "        vertical-align: top;\n",
       "    }\n",
       "\n",
       "    .dataframe thead th {\n",
       "        text-align: right;\n",
       "    }\n",
       "</style>\n",
       "<table border=\"1\" class=\"dataframe\">\n",
       "  <thead>\n",
       "    <tr style=\"text-align: right;\">\n",
       "      <th></th>\n",
       "      <th>stock_number</th>\n",
       "      <th>color</th>\n",
       "      <th>sizes</th>\n",
       "      <th>description</th>\n",
       "    </tr>\n",
       "  </thead>\n",
       "  <tbody>\n",
       "    <tr>\n",
       "      <th>0</th>\n",
       "      <td>566</td>\n",
       "      <td>mrn</td>\n",
       "      <td>4 to 8 1/2</td>\n",
       "      <td>top sider maroon</td>\n",
       "    </tr>\n",
       "    <tr>\n",
       "      <th>1</th>\n",
       "      <td>566</td>\n",
       "      <td>mnt</td>\n",
       "      <td>4 to 8 1/2</td>\n",
       "      <td>top sider mint</td>\n",
       "    </tr>\n",
       "    <tr>\n",
       "      <th>2</th>\n",
       "      <td>565</td>\n",
       "      <td>mnt</td>\n",
       "      <td>4 to 8 1/2</td>\n",
       "      <td>jelly mint</td>\n",
       "    </tr>\n",
       "    <tr>\n",
       "      <th>3</th>\n",
       "      <td>565</td>\n",
       "      <td>mrn</td>\n",
       "      <td>4 to 8 1/2</td>\n",
       "      <td>jelly maroon</td>\n",
       "    </tr>\n",
       "    <tr>\n",
       "      <th>4</th>\n",
       "      <td>558</td>\n",
       "      <td>red</td>\n",
       "      <td>4 to 8 1/2</td>\n",
       "      <td>lcc (leatherette) red</td>\n",
       "    </tr>\n",
       "  </tbody>\n",
       "</table>\n",
       "</div>"
      ],
      "text/plain": [
       "   stock_number color       sizes            description\n",
       "0           566   mrn  4 to 8 1/2       top sider maroon\n",
       "1           566   mnt  4 to 8 1/2         top sider mint\n",
       "2           565   mnt  4 to 8 1/2             jelly mint\n",
       "3           565   mrn  4 to 8 1/2           jelly maroon\n",
       "4           558   red  4 to 8 1/2  lcc (leatherette) red"
      ]
     },
     "execution_count": 6,
     "metadata": {},
     "output_type": "execute_result"
    }
   ],
   "source": [
    "cur.execute('select * from ladies_shoes')\n",
    "ladies_shoes_row = cur.fetchall()\n",
    "\n",
    "df = pd.DataFrame(ladies_shoes_row,  columns=['stock_number', 'color', 'sizes', 'description'])\n",
    "df.head()"
   ]
  },
  {
   "cell_type": "markdown",
   "id": "130852db",
   "metadata": {},
   "source": [
    "# SHOW JUNIOR SHOES"
   ]
  },
  {
   "cell_type": "code",
   "execution_count": 7,
   "id": "3ce7e676",
   "metadata": {},
   "outputs": [
    {
     "data": {
      "text/html": [
       "<div>\n",
       "<style scoped>\n",
       "    .dataframe tbody tr th:only-of-type {\n",
       "        vertical-align: middle;\n",
       "    }\n",
       "\n",
       "    .dataframe tbody tr th {\n",
       "        vertical-align: top;\n",
       "    }\n",
       "\n",
       "    .dataframe thead th {\n",
       "        text-align: right;\n",
       "    }\n",
       "</style>\n",
       "<table border=\"1\" class=\"dataframe\">\n",
       "  <thead>\n",
       "    <tr style=\"text-align: right;\">\n",
       "      <th></th>\n",
       "      <th>stock_number</th>\n",
       "      <th>color</th>\n",
       "      <th>sizes</th>\n",
       "      <th>description</th>\n",
       "    </tr>\n",
       "  </thead>\n",
       "  <tbody>\n",
       "    <tr>\n",
       "      <th>0</th>\n",
       "      <td>563</td>\n",
       "      <td>gry</td>\n",
       "      <td>1 to 4 1/2</td>\n",
       "      <td>(juniors) tyler gray</td>\n",
       "    </tr>\n",
       "    <tr>\n",
       "      <th>1</th>\n",
       "      <td>530</td>\n",
       "      <td>mrn</td>\n",
       "      <td>1 to 4 1/2</td>\n",
       "      <td>(juniors) sniper maroon</td>\n",
       "    </tr>\n",
       "    <tr>\n",
       "      <th>2</th>\n",
       "      <td>556</td>\n",
       "      <td>blk</td>\n",
       "      <td>1 to 4 1/2</td>\n",
       "      <td>(juniors) hi-cut all black</td>\n",
       "    </tr>\n",
       "    <tr>\n",
       "      <th>3</th>\n",
       "      <td>502</td>\n",
       "      <td>blk</td>\n",
       "      <td>1 to 4 1/2</td>\n",
       "      <td>(juniors) under cover black</td>\n",
       "    </tr>\n",
       "    <tr>\n",
       "      <th>4</th>\n",
       "      <td>522</td>\n",
       "      <td>blk</td>\n",
       "      <td>1 to 4 1/2</td>\n",
       "      <td>(juniors) ethan black</td>\n",
       "    </tr>\n",
       "  </tbody>\n",
       "</table>\n",
       "</div>"
      ],
      "text/plain": [
       "   stock_number color       sizes                  description\n",
       "0           563   gry  1 to 4 1/2         (juniors) tyler gray\n",
       "1           530   mrn  1 to 4 1/2      (juniors) sniper maroon\n",
       "2           556   blk  1 to 4 1/2   (juniors) hi-cut all black\n",
       "3           502   blk  1 to 4 1/2  (juniors) under cover black\n",
       "4           522   blk  1 to 4 1/2        (juniors) ethan black"
      ]
     },
     "execution_count": 7,
     "metadata": {},
     "output_type": "execute_result"
    }
   ],
   "source": [
    "cur.execute('select * from jnrs_shoes')\n",
    "jnrs_shoes_row = cur.fetchall()\n",
    "\n",
    "df = pd.DataFrame(jnrs_shoes_row,  columns=['stock_number', 'color', 'sizes', 'description'])\n",
    "df.head()"
   ]
  },
  {
   "cell_type": "code",
   "execution_count": null,
   "id": "5738c2e1",
   "metadata": {},
   "outputs": [],
   "source": []
  }
 ],
 "metadata": {
  "kernelspec": {
   "display_name": "Python 3 (ipykernel)",
   "language": "python",
   "name": "python3"
  },
  "language_info": {
   "codemirror_mode": {
    "name": "ipython",
    "version": 3
   },
   "file_extension": ".py",
   "mimetype": "text/x-python",
   "name": "python",
   "nbconvert_exporter": "python",
   "pygments_lexer": "ipython3",
   "version": "3.10.6"
  }
 },
 "nbformat": 4,
 "nbformat_minor": 5
}
